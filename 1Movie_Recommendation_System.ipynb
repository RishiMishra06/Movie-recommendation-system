{
  "nbformat": 4,
  "nbformat_minor": 0,
  "metadata": {
    "colab": {
      "provenance": [],
      "mount_file_id": "1-CqEhBqaUz1q0s8weGXZAX08YLT736Wq",
      "authorship_tag": "ABX9TyP1rMEqnnSHUuxk1v/lIeCg",
      "include_colab_link": true
    },
    "kernelspec": {
      "name": "python3",
      "display_name": "Python 3"
    },
    "language_info": {
      "name": "python"
    }
  },
  "cells": [
    {
      "cell_type": "markdown",
      "metadata": {
        "id": "view-in-github",
        "colab_type": "text"
      },
      "source": [
        "<a href=\"https://colab.research.google.com/github/RishiMishra06/Movie-recommendation-system/blob/main/1Movie_Recommendation_System.ipynb\" target=\"_parent\"><img src=\"https://colab.research.google.com/assets/colab-badge.svg\" alt=\"Open In Colab\"/></a>"
      ]
    },
    {
      "cell_type": "markdown",
      "source": [
        "# About Me"
      ],
      "metadata": {
        "id": "argVSj3kh6_7"
      }
    },
    {
      "cell_type": "markdown",
      "source": [
        "**Rishi Mishra**\n",
        "\n",
        "* 🔗 LinkedIn - https://www.linkedin.com/in/rishimishra-technology\n",
        "\n",
        "\n",
        "\n",
        "* Github - https://github.com/RishiMishra06"
      ],
      "metadata": {
        "id": "GSyA_pwDicFZ"
      }
    },
    {
      "cell_type": "markdown",
      "source": [
        "# Import dependency and dataset loading"
      ],
      "metadata": {
        "id": "wcHjsaAlbIyT"
      }
    },
    {
      "cell_type": "code",
      "execution_count": 12,
      "metadata": {
        "id": "6zqGMvYbW_jJ"
      },
      "outputs": [],
      "source": [
        "import pandas as pd\n",
        "import numpy as np\n",
        "import difflib\n",
        "from sklearn.feature_extraction.text import TfidfVectorizer\n",
        "from sklearn.metrics.pairwise import cosine_similarity"
      ]
    },
    {
      "cell_type": "code",
      "source": [
        "data = pd.read_csv('/content/drive/MyDrive/Copy of Copy of movies.csv')"
      ],
      "metadata": {
        "id": "ccysKEwDXJNI"
      },
      "execution_count": 13,
      "outputs": []
    },
    {
      "cell_type": "markdown",
      "source": [
        "# Taking important columns"
      ],
      "metadata": {
        "id": "BQSSiZB7brIu"
      }
    },
    {
      "cell_type": "code",
      "source": [
        "features = ['genres','keywords','original_language','tagline','cast','director']"
      ],
      "metadata": {
        "id": "Ok_d0fJRYOjC"
      },
      "execution_count": 14,
      "outputs": []
    },
    {
      "cell_type": "markdown",
      "source": [
        "# Handling null values"
      ],
      "metadata": {
        "id": "oDSbEL-abzpV"
      }
    },
    {
      "cell_type": "code",
      "source": [
        "for feature in features:\n",
        "  data[feature] = data[feature].fillna('')"
      ],
      "metadata": {
        "id": "H6QvpCzSZwgO"
      },
      "execution_count": 15,
      "outputs": []
    },
    {
      "cell_type": "code",
      "source": [
        "data['combine'] = data['genres']+' '+data['keywords']+' '+data['tagline']+' '+data['cast']+' '+data['director']"
      ],
      "metadata": {
        "id": "8D0YiwpeZwp9"
      },
      "execution_count": 16,
      "outputs": []
    },
    {
      "cell_type": "code",
      "source": [
        "data['combine'].head()"
      ],
      "metadata": {
        "colab": {
          "base_uri": "https://localhost:8080/",
          "height": 241
        },
        "id": "toh1Yj9RZwzV",
        "outputId": "2568877c-fbfa-499f-9efa-2b3c4b115c08"
      },
      "execution_count": 17,
      "outputs": [
        {
          "output_type": "execute_result",
          "data": {
            "text/plain": [
              "0    Action Adventure Fantasy Science Fiction cultu...\n",
              "1    Adventure Fantasy Action ocean drug abuse exot...\n",
              "2    Action Adventure Crime spy based on novel secr...\n",
              "3    Action Crime Drama Thriller dc comics crime fi...\n",
              "4    Action Adventure Science Fiction based on nove...\n",
              "Name: combine, dtype: object"
            ],
            "text/html": [
              "<div>\n",
              "<style scoped>\n",
              "    .dataframe tbody tr th:only-of-type {\n",
              "        vertical-align: middle;\n",
              "    }\n",
              "\n",
              "    .dataframe tbody tr th {\n",
              "        vertical-align: top;\n",
              "    }\n",
              "\n",
              "    .dataframe thead th {\n",
              "        text-align: right;\n",
              "    }\n",
              "</style>\n",
              "<table border=\"1\" class=\"dataframe\">\n",
              "  <thead>\n",
              "    <tr style=\"text-align: right;\">\n",
              "      <th></th>\n",
              "      <th>combine</th>\n",
              "    </tr>\n",
              "  </thead>\n",
              "  <tbody>\n",
              "    <tr>\n",
              "      <th>0</th>\n",
              "      <td>Action Adventure Fantasy Science Fiction cultu...</td>\n",
              "    </tr>\n",
              "    <tr>\n",
              "      <th>1</th>\n",
              "      <td>Adventure Fantasy Action ocean drug abuse exot...</td>\n",
              "    </tr>\n",
              "    <tr>\n",
              "      <th>2</th>\n",
              "      <td>Action Adventure Crime spy based on novel secr...</td>\n",
              "    </tr>\n",
              "    <tr>\n",
              "      <th>3</th>\n",
              "      <td>Action Crime Drama Thriller dc comics crime fi...</td>\n",
              "    </tr>\n",
              "    <tr>\n",
              "      <th>4</th>\n",
              "      <td>Action Adventure Science Fiction based on nove...</td>\n",
              "    </tr>\n",
              "  </tbody>\n",
              "</table>\n",
              "</div><br><label><b>dtype:</b> object</label>"
            ]
          },
          "metadata": {},
          "execution_count": 17
        }
      ]
    },
    {
      "cell_type": "markdown",
      "source": [
        "# Text preprocessing"
      ],
      "metadata": {
        "id": "i1iMwj4dcJ2s"
      }
    },
    {
      "cell_type": "code",
      "source": [
        "vector = TfidfVectorizer()\n",
        "f_vector = vector.fit_transform(data['combine'])\n",
        "print(f_vector)"
      ],
      "metadata": {
        "colab": {
          "base_uri": "https://localhost:8080/"
        },
        "id": "91vrLpVLaR81",
        "outputId": "e85025d0-a2a6-4503-cb3c-8b9314749f0c"
      },
      "execution_count": 18,
      "outputs": [
        {
          "output_type": "stream",
          "name": "stdout",
          "text": [
            "<Compressed Sparse Row sparse matrix of dtype 'float64'\n",
            "\twith 124266 stored elements and shape (4803, 17318)>\n",
            "  Coords\tValues\n",
            "  (0, 201)\t0.07860022416510505\n",
            "  (0, 274)\t0.09021200873707368\n",
            "  (0, 5274)\t0.11108562744414445\n",
            "  (0, 13599)\t0.1036413987316636\n",
            "  (0, 5437)\t0.1036413987316636\n",
            "  (0, 3678)\t0.21392179219912877\n",
            "  (0, 3065)\t0.22208377802661425\n",
            "  (0, 5836)\t0.1646750903586285\n",
            "  (0, 14378)\t0.33962752210959823\n",
            "  (0, 16587)\t0.12549432354918996\n",
            "  (0, 3225)\t0.24960162956997736\n",
            "  (0, 14271)\t0.21392179219912877\n",
            "  (0, 4945)\t0.24025852494110758\n",
            "  (0, 15261)\t0.07095833561276566\n",
            "  (0, 16998)\t0.1282126322850579\n",
            "  (0, 11192)\t0.09049319826481456\n",
            "  (0, 11503)\t0.27211310056983656\n",
            "  (0, 13349)\t0.15021264094167086\n",
            "  (0, 17007)\t0.23643326319898797\n",
            "  (0, 17290)\t0.20197912553916567\n",
            "  (0, 13319)\t0.2177470539412484\n",
            "  (0, 14064)\t0.20596090415084142\n",
            "  (0, 16668)\t0.19843263965100372\n",
            "  (0, 14608)\t0.15150672398763912\n",
            "  (0, 8756)\t0.22709015857011816\n",
            "  :\t:\n",
            "  (4801, 403)\t0.17727585190343229\n",
            "  (4801, 4835)\t0.24713765026964\n",
            "  (4801, 17266)\t0.28860981849329476\n",
            "  (4801, 13835)\t0.27870029291200094\n",
            "  (4801, 13175)\t0.28860981849329476\n",
            "  (4801, 17150)\t0.3025765103586468\n",
            "  (4801, 3511)\t0.3025765103586468\n",
            "  (4801, 13948)\t0.3025765103586468\n",
            "  (4801, 7269)\t0.3025765103586468\n",
            "  (4802, 11161)\t0.17867407682173203\n",
            "  (4802, 4518)\t0.16784466610624255\n",
            "  (4802, 2129)\t0.3099656128577656\n",
            "  (4802, 4980)\t0.16078053641367315\n",
            "  (4802, 6155)\t0.18056463596934083\n",
            "  (4802, 3436)\t0.21753405888348784\n",
            "  (4802, 4528)\t0.19504460807622875\n",
            "  (4802, 1316)\t0.1960747079005741\n",
            "  (4802, 12989)\t0.1696476532191718\n",
            "  (4802, 4371)\t0.1538239182675544\n",
            "  (4802, 6417)\t0.21753405888348784\n",
            "  (4802, 4608)\t0.24002350969074696\n",
            "  (4802, 2425)\t0.24002350969074696\n",
            "  (4802, 3654)\t0.262512960498006\n",
            "  (4802, 5367)\t0.22969114490410403\n",
            "  (4802, 6996)\t0.5700048226105303\n"
          ]
        }
      ]
    },
    {
      "cell_type": "code",
      "source": [
        "f_vector.shape"
      ],
      "metadata": {
        "colab": {
          "base_uri": "https://localhost:8080/"
        },
        "id": "A5w_jvYVaSBV",
        "outputId": "1db23f73-18e2-428f-ab7c-92604b0512ce"
      },
      "execution_count": 19,
      "outputs": [
        {
          "output_type": "execute_result",
          "data": {
            "text/plain": [
              "(4803, 17318)"
            ]
          },
          "metadata": {},
          "execution_count": 19
        }
      ]
    },
    {
      "cell_type": "markdown",
      "source": [
        "# Checking similarity score"
      ],
      "metadata": {
        "id": "gA_0yJEBcc_D"
      }
    },
    {
      "cell_type": "code",
      "source": [
        "similarity = cosine_similarity(f_vector)\n",
        "print(similarity)"
      ],
      "metadata": {
        "colab": {
          "base_uri": "https://localhost:8080/"
        },
        "id": "KLviiRgtaSF7",
        "outputId": "f33137d6-1070-4eb5-c16b-e55bf5986fb3"
      },
      "execution_count": 20,
      "outputs": [
        {
          "output_type": "stream",
          "name": "stdout",
          "text": [
            "[[1.         0.07219487 0.037733   ... 0.         0.         0.        ]\n",
            " [0.07219487 1.         0.03281499 ... 0.03575545 0.         0.        ]\n",
            " [0.037733   0.03281499 1.         ... 0.         0.05389661 0.        ]\n",
            " ...\n",
            " [0.         0.03575545 0.         ... 1.         0.         0.02651502]\n",
            " [0.         0.         0.05389661 ... 0.         1.         0.        ]\n",
            " [0.         0.         0.         ... 0.02651502 0.         1.        ]]\n"
          ]
        }
      ]
    },
    {
      "cell_type": "markdown",
      "source": [
        "# **Movie Recommendation System**"
      ],
      "metadata": {
        "id": "ZMLveo55dEwK"
      }
    },
    {
      "cell_type": "code",
      "source": [
        "movie_name = input('Enter your favourite movie name :')\n",
        "list_of_all_title = data['title'].tolist()\n",
        "find_close_match = difflib.get_close_matches(movie_name, list_of_all_title)\n",
        "close_match = find_close_match[0]\n",
        "index_of_movie = data[data.title == close_match]['index'].values[0]\n",
        "similar_score = list(enumerate(similarity[index_of_movie]))\n",
        "similar_score_sort = sorted(similar_score, key = lambda x:x[1], reverse = True)\n",
        "\n",
        "print('Movies suggested for you : \\n')\n",
        "for i in range(30):\n",
        "  index = similar_score_sort[i][0]\n",
        "  print(data['title'][index])"
      ],
      "metadata": {
        "colab": {
          "base_uri": "https://localhost:8080/"
        },
        "id": "XF63fegbaSMb",
        "outputId": "bce7da9b-8e81-42f4-8835-3b15f18f53fe"
      },
      "execution_count": 21,
      "outputs": [
        {
          "output_type": "stream",
          "name": "stdout",
          "text": [
            "Enter your favourite movie name :Iron man\n",
            "Movies suggested for you : \n",
            "\n",
            "Iron Man\n",
            "Iron Man 2\n",
            "Iron Man 3\n",
            "Avengers: Age of Ultron\n",
            "The Avengers\n",
            "Captain America: Civil War\n",
            "Captain America: The Winter Soldier\n",
            "Ant-Man\n",
            "X-Men\n",
            "Made\n",
            "X-Men: Apocalypse\n",
            "X2\n",
            "The Incredible Hulk\n",
            "The Helix... Loaded\n",
            "X-Men: First Class\n",
            "X-Men: Days of Future Past\n",
            "Captain America: The First Avenger\n",
            "Kick-Ass 2\n",
            "Guardians of the Galaxy\n",
            "Deadpool\n",
            "Thor: The Dark World\n",
            "G-Force\n",
            "X-Men: The Last Stand\n",
            "Duets\n",
            "Mortdecai\n",
            "The Last Airbender\n",
            "Southland Tales\n",
            "Zathura: A Space Adventure\n",
            "Sky Captain and the World of Tomorrow\n",
            "The Amazing Spider-Man 2\n"
          ]
        }
      ]
    }
  ]
}